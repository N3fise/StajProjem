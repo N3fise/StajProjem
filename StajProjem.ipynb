{
  "nbformat": 4,
  "nbformat_minor": 0,
  "metadata": {
    "colab": {
      "provenance": [],
      "gpuType": "T4"
    },
    "kernelspec": {
      "name": "python3",
      "display_name": "Python 3"
    },
    "language_info": {
      "name": "python"
    },
    "accelerator": "GPU"
  },
  "cells": [
    {
      "cell_type": "code",
      "execution_count": null,
      "metadata": {
        "id": "bD7K4DGzIZh3"
      },
      "outputs": [],
      "source": [
        "import pandas as pd\n",
        "import numpy as np\n",
        "import matplotlib.pyplot as plt\n",
        "from sklearn.preprocessing import MinMaxScaler\n",
        "from keras.layers import Dense, Dropout, LSTM\n",
        "from keras.models import Sequential"
      ]
    },
    {
      "cell_type": "code",
      "source": [
        "from google.colab import drive"
      ],
      "metadata": {
        "id": "_z1NwrWnIwpJ"
      },
      "execution_count": null,
      "outputs": []
    },
    {
      "cell_type": "code",
      "source": [
        "# Google Drive'ı bağladım\n",
        "drive.mount('/content/drive')\n",
        "\n",
        "# Dosya yolunu Drive'daki konumuna göre değiştirdim\n",
        "file_path = '/content/drive/MyDrive/AAPL.csv'\n",
        "\n",
        "# CSV dosyasını okudum\n",
        "aapl = pd.read_csv(file_path, delimiter=',')\n",
        "print(aapl.head())"
      ],
      "metadata": {
        "colab": {
          "base_uri": "https://localhost:8080/"
        },
        "id": "Zym1LKO9KB_s",
        "outputId": "cfaa7596-7006-4569-ee5a-4ac3803c4c66"
      },
      "execution_count": null,
      "outputs": [
        {
          "output_type": "stream",
          "name": "stdout",
          "text": [
            "Mounted at /content/drive\n",
            "         Date  Price  Open  High   Low     Vol. Change %\n",
            "0  12/12/1980   0.13  0.13  0.13  0.13  469.03M  -99.88%\n",
            "1  12/15/1980   0.12  0.12  0.12  0.12  175.88M   -7.69%\n",
            "2  12/16/1980   0.11  0.11  0.11  0.11  105.73M   -8.33%\n",
            "3  12/17/1980   0.12  0.12  0.12  0.12   86.44M    9.09%\n",
            "4  12/18/1980   0.12  0.12  0.12  0.12   73.45M    0.00%\n"
          ]
        }
      ]
    },
    {
      "cell_type": "code",
      "source": [
        "#dizini sıfırladım\n",
        "aapl.reset_index(inplace=True)\n",
        "print(aapl)"
      ],
      "metadata": {
        "colab": {
          "base_uri": "https://localhost:8080/"
        },
        "id": "wH76GPivIo65",
        "outputId": "b4876c36-d93f-48d4-bd00-1aa2c6366bd3"
      },
      "execution_count": null,
      "outputs": [
        {
          "output_type": "stream",
          "name": "stdout",
          "text": [
            "       index        Date   Price    Open    High     Low     Vol. Change %\n",
            "0          0  12/12/1980    0.13    0.13    0.13    0.13  469.03M  -99.88%\n",
            "1          1  12/15/1980    0.12    0.12    0.12    0.12  175.88M   -7.69%\n",
            "2          2  12/16/1980    0.11    0.11    0.11    0.11  105.73M   -8.33%\n",
            "3          3  12/17/1980    0.12    0.12    0.12    0.12   86.44M    9.09%\n",
            "4          4  12/18/1980    0.12    0.12    0.12    0.12   73.45M    0.00%\n",
            "...      ...         ...     ...     ...     ...     ...      ...      ...\n",
            "10907  10907  03/21/2024  171.37  177.05  177.49  170.84  106.18M   -4.09%\n",
            "10908  10908  03/22/2024  172.28  171.76  173.05  170.06   71.16M    0.53%\n",
            "10909  10909  03/25/2024  170.85  170.37  171.94  169.46   54.21M   -0.83%\n",
            "10910  10910  03/26/2024  169.71  170.01  171.41  169.65   57.22M   -0.67%\n",
            "10911  10911  03/27/2024  173.31  170.30  173.58  170.14   59.11M    2.12%\n",
            "\n",
            "[10912 rows x 8 columns]\n"
          ]
        }
      ]
    },
    {
      "cell_type": "code",
      "source": [
        "# ön işleme.\n",
        "# Tarih sütununu datetime formatına çevirdim\n",
        "aapl['Date'] = pd.to_datetime(aapl['Date'], format='%m/%d/%Y')\n"
      ],
      "metadata": {
        "id": "wk1DjCZaIp1U"
      },
      "execution_count": null,
      "outputs": []
    },
    {
      "cell_type": "code",
      "source": [
        "def clean_volume(vol):\n",
        "    if isinstance(vol, str):\n",
        "        vol = vol.strip()\n",
        "        if 'B' in vol:\n",
        "            return float(vol.replace('B', '')) * 1_000_000_000\n",
        "        elif 'M' in vol:\n",
        "            return float(vol.replace('M', '')) * 1_000_000\n",
        "        elif 'K' in vol:\n",
        "            return float(vol.replace('K', '')) * 1_000\n",
        "    return float(vol)\n",
        "\n",
        "def clean_change(change):\n",
        "    if isinstance(change, str):\n",
        "        change = change.strip().replace('%', '')\n",
        "        if change.endswith('.'):\n",
        "            change = change[:-1]\n",
        "        return float(change) if change else 0.0\n",
        "    return float(change)\n",
        "\n",
        "# Dönüşümleri uyguladım\n",
        "aapl['Vol.'] = aapl['Vol.'].apply(clean_volume)\n",
        "aapl['Change %'] = aapl['Change %'].apply(clean_change)\n",
        "\n",
        "print(aapl[['Vol.', 'Change %']].head())"
      ],
      "metadata": {
        "colab": {
          "base_uri": "https://localhost:8080/"
        },
        "id": "Dhke3RNLQXWs",
        "outputId": "f87803b2-e7d3-440a-823f-576945e7a088"
      },
      "execution_count": null,
      "outputs": [
        {
          "output_type": "stream",
          "name": "stdout",
          "text": [
            "          Vol.  Change %\n",
            "0  469030000.0    -99.88\n",
            "1  175880000.0     -7.69\n",
            "2  105730000.0     -8.33\n",
            "3   86440000.0      9.09\n",
            "4   73450000.0      0.00\n"
          ]
        }
      ]
    },
    {
      "cell_type": "code",
      "source": [
        "# Veri çerçevesinin sütun isimlerini ve ilk birkaç satırını yazdıedım\n",
        "print(\"Sütun isimleri:\", aapl.columns.tolist())\n",
        "print(\"\\nİlk 5 satır:\")\n",
        "print(aapl.head())"
      ],
      "metadata": {
        "colab": {
          "base_uri": "https://localhost:8080/"
        },
        "id": "Xw7dtR0CIydt",
        "outputId": "dfc2914f-3d33-4ce8-9794-028eb089c733"
      },
      "execution_count": null,
      "outputs": [
        {
          "output_type": "stream",
          "name": "stdout",
          "text": [
            "Sütun isimleri: ['index', 'Date', 'Price', 'Open', 'High', 'Low', 'Vol.', 'Change %']\n",
            "\n",
            "İlk 5 satır:\n",
            "   index       Date  Price  Open  High   Low         Vol.  Change %\n",
            "0      0 1980-12-12   0.13  0.13  0.13  0.13  469030000.0    -99.88\n",
            "1      1 1980-12-15   0.12  0.12  0.12  0.12  175880000.0     -7.69\n",
            "2      2 1980-12-16   0.11  0.11  0.11  0.11  105730000.0     -8.33\n",
            "3      3 1980-12-17   0.12  0.12  0.12  0.12   86440000.0      9.09\n",
            "4      4 1980-12-18   0.12  0.12  0.12  0.12   73450000.0      0.00\n"
          ]
        }
      ]
    },
    {
      "cell_type": "code",
      "source": [
        "print(aapl.info())"
      ],
      "metadata": {
        "colab": {
          "base_uri": "https://localhost:8080/"
        },
        "id": "meek2wU4nfsA",
        "outputId": "15f4daa2-528e-4e2a-8f87-4bd59199516c"
      },
      "execution_count": null,
      "outputs": [
        {
          "output_type": "stream",
          "name": "stdout",
          "text": [
            "<class 'pandas.core.frame.DataFrame'>\n",
            "RangeIndex: 10912 entries, 0 to 10911\n",
            "Data columns (total 8 columns):\n",
            " #   Column    Non-Null Count  Dtype         \n",
            "---  ------    --------------  -----         \n",
            " 0   index     10912 non-null  int64         \n",
            " 1   Date      10912 non-null  datetime64[ns]\n",
            " 2   Price     10912 non-null  float64       \n",
            " 3   Open      10912 non-null  float64       \n",
            " 4   High      10912 non-null  float64       \n",
            " 5   Low       10912 non-null  float64       \n",
            " 6   Vol.      10912 non-null  float64       \n",
            " 7   Change %  10912 non-null  float64       \n",
            "dtypes: datetime64[ns](1), float64(6), int64(1)\n",
            "memory usage: 682.1 KB\n",
            "None\n"
          ]
        }
      ]
    },
    {
      "cell_type": "code",
      "source": [
        "print(aapl.describe())"
      ],
      "metadata": {
        "id": "mNosZ0Tmn6l0",
        "outputId": "e204575e-76f3-4dcf-b34b-b8aca6c84045",
        "colab": {
          "base_uri": "https://localhost:8080/"
        }
      },
      "execution_count": null,
      "outputs": [
        {
          "output_type": "stream",
          "name": "stdout",
          "text": [
            "              index                           Date         Price  \\\n",
            "count  10912.000000                          10912  10912.000000   \n",
            "mean    5455.500000  2002-07-26 23:48:23.225806464     20.962334   \n",
            "min        0.000000            1980-12-12 00:00:00      0.050000   \n",
            "25%     2727.750000            1991-09-26 18:00:00      0.300000   \n",
            "50%     5455.500000            2002-07-24 12:00:00      0.520000   \n",
            "75%     8183.250000            2013-05-25 00:00:00     19.312500   \n",
            "max    10911.000000            2024-03-27 00:00:00    198.110000   \n",
            "std     3150.167403                            NaN     43.543804   \n",
            "\n",
            "               Open          High           Low          Vol.      Change %  \n",
            "count  10912.000000  10912.000000  10912.000000  1.091200e+04  10912.000000  \n",
            "mean      20.948320     21.174676     20.730037  3.200629e+08      0.129273  \n",
            "min        0.050000      0.050000      0.050000  1.390000e+06    -99.880000  \n",
            "25%        0.300000      0.300000      0.290000  1.147425e+08     -0.830000  \n",
            "50%        0.520000      0.530000      0.510000  2.073200e+08      0.000000  \n",
            "75%       19.312500     19.530000     19.132500  3.999875e+08      1.200000  \n",
            "max      198.020000    199.620000    197.000000  7.430000e+09    300.120000  \n",
            "std       43.506322     43.975459     43.065631  3.364975e+08      4.440266  \n"
          ]
        }
      ]
    },
    {
      "cell_type": "code",
      "source": [
        "# Sütun isimlerindeki boşlukları temizledim\n",
        "aapl.columns = aapl.columns.str.strip()\n",
        "print(\"Düzeltilmiş sütun isimleri:\", aapl.columns.tolist())"
      ],
      "metadata": {
        "colab": {
          "base_uri": "https://localhost:8080/"
        },
        "id": "u3QifOzsI7YR",
        "outputId": "40c26a9a-06fb-494f-8a96-4fb8e48b3e66"
      },
      "execution_count": null,
      "outputs": [
        {
          "output_type": "stream",
          "name": "stdout",
          "text": [
            "Düzeltilmiş sütun isimleri: ['index', 'Date', 'Close', 'Open', 'High', 'Low', 'Vol.', 'Change %', 'MA_7', 'MA_21', 'RSI', 'MACD', 'Signal_Line']\n"
          ]
        }
      ]
    },
    {
      "cell_type": "code",
      "source": [
        "# Olası fiyat sütunu isimlerini kontrol ettim\n",
        "possible_price_columns = ['Price', 'price', 'PRICE', 'Close', 'close', 'CLOSE', 'Last', 'last']\n",
        "\n",
        "for col in possible_price_columns:\n",
        "    if col in aapl.columns:\n",
        "        print(f\"Bulunan fiyat sütunu: {col}\")\n",
        "        aapl['Price'] = aapl[col]\n",
        "        break\n",
        "else:\n",
        "    print(\"Hiçbir fiyat sütunu bulunamadı. Mevcut sütunlar:\", aapl.columns.tolist())"
      ],
      "metadata": {
        "colab": {
          "base_uri": "https://localhost:8080/"
        },
        "id": "upUVWkIeSyyx",
        "outputId": "9190b9eb-f0b3-4990-db95-deda7419e69f"
      },
      "execution_count": null,
      "outputs": [
        {
          "output_type": "stream",
          "name": "stdout",
          "text": [
            "Bulunan fiyat sütunu: Close\n"
          ]
        }
      ]
    },
    {
      "cell_type": "code",
      "source": [
        "def add_technical_indicators(df):\n",
        "    # Fiyat sütununu bulma\n",
        "    price_col = None\n",
        "    possible_cols = ['Price', 'price', 'Close', 'close', 'Last', 'last']\n",
        "\n",
        "    for col in possible_cols:\n",
        "        if col in df.columns:\n",
        "            price_col = col\n",
        "            break\n",
        "\n",
        "    if price_col is None:\n",
        "        raise ValueError(\"Fiyat verisi içeren sütun bulunamadı\")\n",
        "\n",
        "    # Hareketli Ortalamaları bulma\n",
        "    df['MA_7'] = df[price_col].rolling(window=7).mean()\n",
        "    df['MA_21'] = df[price_col].rolling(window=21).mean()\n",
        "\n",
        "    # RSI\n",
        "    delta = df[price_col].diff()\n",
        "    gain = (delta.where(delta > 0, 0)).rolling(window=14).mean()\n",
        "    loss = (-delta.where(delta < 0, 0)).rolling(window=14).mean()\n",
        "    rs = gain / loss\n",
        "    df['RSI'] = 100 - (100 / (1 + rs))\n",
        "\n",
        "    return df.dropna()\n",
        "\n",
        "# Teknik göstergeleri ekledim\n",
        "try:\n",
        "    aapl = add_technical_indicators(aapl)\n",
        "    print(\"Teknik göstergeler başarıyla eklendi:\")\n",
        "    print(aapl.tail())\n",
        "except Exception as e:\n",
        "    print(\"Hata:\", e)"
      ],
      "metadata": {
        "colab": {
          "base_uri": "https://localhost:8080/"
        },
        "id": "JnbDGlP7S4qF",
        "outputId": "03cf203d-eb0f-4bcd-e7fb-7fc8c2ff3384"
      },
      "execution_count": null,
      "outputs": [
        {
          "output_type": "stream",
          "name": "stdout",
          "text": [
            "Teknik göstergeler başarıyla eklendi:\n",
            "       index       Date   Close    Open    High     Low         Vol.  \\\n",
            "10907  10907 2024-03-21  171.37  177.05  177.49  170.84  106180000.0   \n",
            "10908  10908 2024-03-22  172.28  171.76  173.05  170.06   71160000.0   \n",
            "10909  10909 2024-03-25  170.85  170.37  171.94  169.46   54210000.0   \n",
            "10910  10910 2024-03-26  169.71  170.01  171.41  169.65   57220000.0   \n",
            "10911  10911 2024-03-27  173.31  170.30  173.58  170.14   59110000.0   \n",
            "\n",
            "       Change %        MA_7       MA_21        RSI      MACD  Signal_Line  \\\n",
            "10907     -4.09  173.798571  175.673810  37.281375 -2.604508    -3.213056   \n",
            "10908      0.53  173.962857  175.098095  45.127851 -2.577754    -3.085996   \n",
            "10909     -0.83  173.655714  174.542381  51.437574 -2.641491    -2.997095   \n",
            "10910     -0.67  173.240000  173.997143  51.155503 -2.752265    -2.948129   \n",
            "10911      2.12  173.181429  173.553333  57.428473 -2.520510    -2.862605   \n",
            "\n",
            "        Price  \n",
            "10907  171.37  \n",
            "10908  172.28  \n",
            "10909  170.85  \n",
            "10910  169.71  \n",
            "10911  173.31  \n"
          ]
        }
      ]
    },
    {
      "cell_type": "code",
      "source": [
        "# Önce sütun isimlerini temizledim ve kontrol ediyorum\n",
        "aapl.columns = aapl.columns.str.strip()\n",
        "print(\"Mevcut sütunlar:\", aapl.columns.tolist())\n",
        "\n",
        "price_column = None\n",
        "for col in aapl.columns:\n",
        "    if col.lower() in ['price', 'close', 'last']:\n",
        "        price_column = col\n",
        "        break\n",
        "\n",
        "if price_column is None:\n",
        "    raise ValueError(\"Fiyat verisi içeren sütun bulunamadı\")\n",
        "\n",
        "print(f\"Kullanılacak fiyat sütunu: '{price_column}'\")\n",
        "\n",
        "def add_technical_indicators(df, price_col):\n",
        "    df = df.copy()\n",
        "\n",
        "    # Hareketli Ortalamaları yazdırdım\n",
        "    df['MA_7'] = df[price_col].rolling(window=7).mean()\n",
        "    df['MA_21'] = df[price_col].rolling(window=21).mean()\n",
        "\n",
        "    # RSI\n",
        "    delta = df[price_col].diff()\n",
        "    gain = (delta.where(delta > 0, 0)).rolling(window=14).mean()\n",
        "    loss = (-delta.where(delta < 0, 0)).rolling(window=14).mean()\n",
        "    rs = gain / loss\n",
        "    df['RSI'] = 100 - (100 / (1 + rs))\n",
        "\n",
        "    return df.dropna()\n",
        "\n",
        "# Teknik göstergeleri ekledim\n",
        "aapl = add_technical_indicators(aapl, price_column)\n",
        "\n",
        "# SONUÇLARI GÖRÜNTÜLEDİM\n",
        "display_columns = ['Date', price_column, 'MA_7', 'MA_21', 'RSI']\n",
        "print(\"\\nTeknik Göstergelerle Son 5 Kayıt:\")\n",
        "print(aapl[display_columns].tail())\n",
        "\n",
        "# Görselleştirdim\n",
        "plt.figure(figsize=(12,6))\n",
        "plt.plot(aapl['Date'], aapl[price_column], label='Fiyat', color='blue')\n",
        "plt.plot(aapl['Date'], aapl['MA_7'], label='7 Günlük MA', color='orange', linestyle='--')\n",
        "plt.plot(aapl['Date'], aapl['MA_21'], label='21 Günlük MA', color='green', linestyle='-.')\n",
        "plt.title(f\"{price_column} ve Hareketli Ortalamalar\")\n",
        "plt.xlabel('Tarih')\n",
        "plt.ylabel('Fiyat')\n",
        "plt.legend()\n",
        "plt.grid(True)\n",
        "plt.show()"
      ],
      "metadata": {
        "colab": {
          "base_uri": "https://localhost:8080/",
          "height": 746
        },
        "id": "nVDMZ-6oS6F2",
        "outputId": "49fce438-380d-4413-d976-9763f4fedf8f"
      },
      "execution_count": null,
      "outputs": [
        {
          "output_type": "stream",
          "name": "stdout",
          "text": [
            "Mevcut sütunlar: ['index', 'Date', 'Close', 'Open', 'High', 'Low', 'Vol.', 'Change %', 'MA_7', 'MA_21', 'RSI', 'MACD', 'Signal_Line', 'Price']\n",
            "Kullanılacak fiyat sütunu: 'Close'\n",
            "\n",
            "Teknik Göstergelerle Son 5 Kayıt:\n",
            "            Date   Close        MA_7       MA_21        RSI\n",
            "10907 2024-03-21  171.37  173.798571  175.673810  37.281375\n",
            "10908 2024-03-22  172.28  173.962857  175.098095  45.127851\n",
            "10909 2024-03-25  170.85  173.655714  174.542381  51.437574\n",
            "10910 2024-03-26  169.71  173.240000  173.997143  51.155503\n",
            "10911 2024-03-27  173.31  173.181429  173.553333  57.428473\n"
          ]
        },
        {
          "output_type": "display_data",
          "data": {
            "text/plain": [
              "<Figure size 1200x600 with 1 Axes>"
            ],
            "image/png": "[encoded data removed]"
          },
          "metadata": {}
        }
      ]
    },
    {
      "cell_type": "code",
      "source": [
        "# secilen_veriler DataFramedeki Price sütununun ortalamasını alıyoeum\n",
        "ortalama_price = secilen_veriler['Price'].mean()\n",
        "ortalama_open = secilen_veriler['Open'].mean()\n",
        "ortalama_high = secilen_veriler['High'].mean()\n",
        "ortalama_low = secilen_veriler['Low'].mean()\n",
        "#ortalama_vol = secilen_veriler['Vol.'].mean()\n",
        "#ortalama_change = secilen_veriler['Change %'].mean()"
      ],
      "metadata": {
        "id": "DQyjDWaHI9Aq"
      },
      "execution_count": null,
      "outputs": []
    },
    {
      "cell_type": "code",
      "source": [
        "# Ortalama fiyatı yazdırdım\n",
        "print(\"Ortalama Price:\", ortalama_price)\n",
        "print(\"Ortalama open:\", ortalama_open)\n",
        "print(\"Ortalama high:\", ortalama_high)\n",
        "print(\"Ortalama low:\", ortalama_low)\n",
        "#print(\"Ortalama Price:\", ortalama_vol)\n",
        "#print(\"Ortalama Price:\", ortalama_chang)\"\"\"\n",
        "\"\"\"vol. ve change verilerini int olmadığı için onlarla işlem yapamadım. manuel olarak doldurcağım.\"\"\""
      ],
      "metadata": {
        "colab": {
          "base_uri": "https://localhost:8080/",
          "height": 109
        },
        "id": "jRg_WDK_I-_w",
        "outputId": "6f2af3a8-5922-4741-fc37-74622c343b5c"
      },
      "execution_count": null,
      "outputs": [
        {
          "output_type": "stream",
          "name": "stdout",
          "text": [
            "Ortalama Price: 0.8156972111553785\n",
            "Ortalama open: 0.8174103585657371\n",
            "Ortalama high: 0.8435458167330678\n",
            "Ortalama low: 0.7922709163346614\n"
          ]
        },
        {
          "output_type": "execute_result",
          "data": {
            "text/plain": [
              "'vol. ve change verilerini int olmadığı için onlarla işlem yapamadım. manuel olarak doldurcağım.'"
            ],
            "application/vnd.google.colaboratory.intrinsic+json": {
              "type": "string"
            }
          },
          "metadata": {},
          "execution_count": 40
        }
      ]
    },
    {
      "cell_type": "code",
      "source": [
        "#ön işlemeyi bitirdim kontrol ediyorum.\n",
        "eksik_degerler = aapl.isnull().sum()\n",
        "print(\"Eksik Değerler:\\n\", eksik_degerler)"
      ],
      "metadata": {
        "colab": {
          "base_uri": "https://localhost:8080/"
        },
        "id": "DawFGGoiJBNz",
        "outputId": "877a05d1-b989-4482-f190-19992ce95404"
      },
      "execution_count": null,
      "outputs": [
        {
          "output_type": "stream",
          "name": "stdout",
          "text": [
            "Eksik Değerler:\n",
            " index          0\n",
            "Date           0\n",
            "Close          0\n",
            "Open           0\n",
            "High           0\n",
            "Low            0\n",
            "Vol.           0\n",
            "Change %       0\n",
            "MA_7           0\n",
            "MA_21          0\n",
            "RSI            0\n",
            "MACD           0\n",
            "Signal_Line    0\n",
            "Price          0\n",
            "dtype: int64\n"
          ]
        }
      ]
    },
    {
      "cell_type": "code",
      "source": [
        "from keras.callbacks import EarlyStopping, ModelCheckpoint\n",
        "from sklearn.model_selection import train_test_split\n",
        "\n",
        "# Veriyi hazırlama fonksiyonum\n",
        "def prepare_data(df, look_back=60):\n",
        "    scaler = MinMaxScaler(feature_range=(0,1))\n",
        "    scaled_data = scaler.fit_transform(df)\n",
        "\n",
        "    X, y = [], []\n",
        "    for i in range(look_back, len(scaled_data)):\n",
        "        X.append(scaled_data[i-look_back:i])\n",
        "        y.append(scaled_data[i, 0])  # Close price'ı tahmin ediyoruz\n",
        "\n",
        "    return np.array(X), np.array(y), scaler\n",
        "\n",
        "# Tüm özellikleri seçtim\n",
        "features = ['Open', 'High', 'Low', 'Close', 'Vol.', 'Change %', 'MA_7', 'MA_21', 'RSI', 'MACD', 'Signal_Line']\n",
        "X, y, scaler = prepare_data(aapl[features])\n",
        "\n",
        "# Eğitim ve test\n",
        "X_train, X_test, y_train, y_test = train_test_split(X, y, test_size=0.2, shuffle=False)\n",
        "\n",
        "# LSTM modeli\n",
        "def build_lstm_model(input_shape):\n",
        "    model = Sequential()\n",
        "\n",
        "    model.add(LSTM(units=128, return_sequences=True, input_shape=input_shape))\n",
        "    model.add(Dropout(0.2))\n",
        "    model.add(LSTM(units=128, return_sequences=True))\n",
        "    model.add(Dropout(0.3))\n",
        "    model.add(LSTM(units=64, return_sequences=True))\n",
        "    model.add(Dropout(0.3))\n",
        "    model.add(LSTM(units=32))\n",
        "    model.add(Dropout(0.3))\n",
        "    model.add(Dense(units=1))\n",
        "\n",
        "    model.compile(optimizer='adam', loss='mse')\n",
        "    return model\n",
        "\n",
        "model = build_lstm_model((X_train.shape[1], X_train.shape[2]))\n",
        "\n",
        "# Callback'ler\n",
        "callbacks = [\n",
        "    EarlyStopping(monitor='val_loss', patience=10, restore_best_weights=True),\n",
        "    ModelCheckpoint('best_model.h5', save_best_only=True)\n",
        "]\n",
        "\n",
        "# Model eğitimi\n",
        "history = model.fit(\n",
        "    X_train, y_train,\n",
        "    validation_data=(X_test, y_test),\n",
        "    epochs=20,\n",
        "    batch_size=32,\n",
        "    callbacks=callbacks,\n",
        "    verbose=1\n",
        ")"
      ],
      "metadata": {
        "colab": {
          "base_uri": "https://localhost:8080/"
        },
        "id": "PnMTdmptJC5n",
        "outputId": "8a08abf2-3dfc-4626-c7ff-5c58f461737a"
      },
      "execution_count": null,
      "outputs": [
        {
          "output_type": "stream",
          "name": "stdout",
          "text": [
            "Epoch 1/20\n"
          ]
        },
        {
          "output_type": "stream",
          "name": "stderr",
          "text": [
            "/usr/local/lib/python3.11/dist-packages/keras/src/layers/rnn/rnn.py:199: UserWarning: Do not pass an `input_shape`/`input_dim` argument to a layer. When using Sequential models, prefer using an `Input(shape)` object as the first layer in the model instead.\n",
            "  super().__init__(**kwargs)\n"
          ]
        },
        {
          "output_type": "stream",
          "name": "stdout",
          "text": [
            "\u001b[1m268/268\u001b[0m \u001b[32m━━━━━━━━━━━━━━━━━━━━\u001b[0m\u001b[37m\u001b[0m \u001b[1m0s\u001b[0m 15ms/step - loss: 0.0021"
          ]
        },
        {
          "output_type": "stream",
          "name": "stderr",
          "text": [
            "WARNING:absl:You are saving your model as an HDF5 file via `model.save()` or `keras.saving.save_model(model)`. This file format is considered legacy. We recommend using instead the native Keras format, e.g. `model.save('my_model.keras')` or `keras.saving.save_model(model, 'my_model.keras')`. \n"
          ]
        },
        {
          "output_type": "stream",
          "name": "stdout",
          "text": [
            "\b\b\b\b\b\b\b\b\b\b\b\b\b\b\b\b\b\b\b\b\b\b\b\b\b\b\b\b\b\b\b\b\b\b\b\b\b\b\b\b\b\b\b\b\b\b\b\b\b\b\b\b\b\b\b\b\r\u001b[1m268/268\u001b[0m \u001b[32m━━━━━━━━━━━━━━━━━━━━\u001b[0m\u001b[37m\u001b[0m \u001b[1m8s\u001b[0m 18ms/step - loss: 0.0021 - val_loss: 0.0296\n",
            "Epoch 2/20\n",
            "\u001b[1m267/268\u001b[0m \u001b[32m━━━━━━━━━━━━━━━━━━━\u001b[0m\u001b[37m━\u001b[0m \u001b[1m0s\u001b[0m 12ms/step - loss: 6.2064e-05"
          ]
        },
        {
          "output_type": "stream",
          "name": "stderr",
          "text": [
            "WARNING:absl:You are saving your model as an HDF5 file via `model.save()` or `keras.saving.save_model(model)`. This file format is considered legacy. We recommend using instead the native Keras format, e.g. `model.save('my_model.keras')` or `keras.saving.save_model(model, 'my_model.keras')`. \n"
          ]
        },
        {
          "output_type": "stream",
          "name": "stdout",
          "text": [
            "\b\b\b\b\b\b\b\b\b\b\b\b\b\b\b\b\b\b\b\b\b\b\b\b\b\b\b\b\b\b\b\b\b\b\b\b\b\b\b\b\b\b\b\b\b\b\b\b\b\b\b\b\b\b\b\b\b\b\b\b\r\u001b[1m268/268\u001b[0m \u001b[32m━━━━━━━━━━━━━━━━━━━━\u001b[0m\u001b[37m\u001b[0m \u001b[1m4s\u001b[0m 14ms/step - loss: 6.2032e-05 - val_loss: 0.0249\n",
            "Epoch 3/20\n",
            "\u001b[1m268/268\u001b[0m \u001b[32m━━━━━━━━━━━━━━━━━━━━\u001b[0m\u001b[37m\u001b[0m \u001b[1m6s\u001b[0m 18ms/step - loss: 4.9924e-05 - val_loss: 0.0363\n",
            "Epoch 4/20\n",
            "\u001b[1m268/268\u001b[0m \u001b[32m━━━━━━━━━━━━━━━━━━━━\u001b[0m\u001b[37m\u001b[0m \u001b[1m4s\u001b[0m 15ms/step - loss: 4.9796e-05 - val_loss: 0.0307\n",
            "Epoch 5/20\n",
            "\u001b[1m266/268\u001b[0m \u001b[32m━━━━━━━━━━━━━━━━━━━\u001b[0m\u001b[37m━\u001b[0m \u001b[1m0s\u001b[0m 12ms/step - loss: 4.4952e-05"
          ]
        },
        {
          "output_type": "stream",
          "name": "stderr",
          "text": [
            "WARNING:absl:You are saving your model as an HDF5 file via `model.save()` or `keras.saving.save_model(model)`. This file format is considered legacy. We recommend using instead the native Keras format, e.g. `model.save('my_model.keras')` or `keras.saving.save_model(model, 'my_model.keras')`. \n"
          ]
        },
        {
          "output_type": "stream",
          "name": "stdout",
          "text": [
            "\b\b\b\b\b\b\b\b\b\b\b\b\b\b\b\b\b\b\b\b\b\b\b\b\b\b\b\b\b\b\b\b\b\b\b\b\b\b\b\b\b\b\b\b\b\b\b\b\b\b\b\b\b\b\b\b\b\b\b\b\r\u001b[1m268/268\u001b[0m \u001b[32m━━━━━━━━━━━━━━━━━━━━\u001b[0m\u001b[37m\u001b[0m \u001b[1m4s\u001b[0m 14ms/step - loss: 4.4963e-05 - val_loss: 0.0200\n",
            "Epoch 6/20\n",
            "\u001b[1m268/268\u001b[0m \u001b[32m━━━━━━━━━━━━━━━━━━━━\u001b[0m\u001b[37m\u001b[0m \u001b[1m6s\u001b[0m 19ms/step - loss: 4.6102e-05 - val_loss: 0.0206\n",
            "Epoch 7/20\n",
            "\u001b[1m268/268\u001b[0m \u001b[32m━━━━━━━━━━━━━━━━━━━━\u001b[0m\u001b[37m\u001b[0m \u001b[1m4s\u001b[0m 15ms/step - loss: 4.2856e-05 - val_loss: 0.0212\n",
            "Epoch 8/20\n",
            "\u001b[1m268/268\u001b[0m \u001b[32m━━━━━━━━━━━━━━━━━━━━\u001b[0m\u001b[37m\u001b[0m \u001b[1m4s\u001b[0m 15ms/step - loss: 4.2336e-05 - val_loss: 0.0262\n",
            "Epoch 9/20\n",
            "\u001b[1m267/268\u001b[0m \u001b[32m━━━━━━━━━━━━━━━━━━━\u001b[0m\u001b[37m━\u001b[0m \u001b[1m0s\u001b[0m 16ms/step - loss: 4.4737e-05"
          ]
        },
        {
          "output_type": "stream",
          "name": "stderr",
          "text": [
            "WARNING:absl:You are saving your model as an HDF5 file via `model.save()` or `keras.saving.save_model(model)`. This file format is considered legacy. We recommend using instead the native Keras format, e.g. `model.save('my_model.keras')` or `keras.saving.save_model(model, 'my_model.keras')`. \n"
          ]
        },
        {
          "output_type": "stream",
          "name": "stdout",
          "text": [
            "\b\b\b\b\b\b\b\b\b\b\b\b\b\b\b\b\b\b\b\b\b\b\b\b\b\b\b\b\b\b\b\b\b\b\b\b\b\b\b\b\b\b\b\b\b\b\b\b\b\b\b\b\b\b\b\b\b\b\b\b\r\u001b[1m268/268\u001b[0m \u001b[32m━━━━━━━━━━━━━━━━━━━━\u001b[0m\u001b[37m\u001b[0m \u001b[1m6s\u001b[0m 17ms/step - loss: 4.4759e-05 - val_loss: 0.0155\n",
            "Epoch 10/20\n",
            "\u001b[1m264/268\u001b[0m \u001b[32m━━━━━━━━━━━━━━━━━━━\u001b[0m\u001b[37m━\u001b[0m \u001b[1m0s\u001b[0m 13ms/step - loss: 5.0676e-05"
          ]
        },
        {
          "output_type": "stream",
          "name": "stderr",
          "text": [
            "WARNING:absl:You are saving your model as an HDF5 file via `model.save()` or `keras.saving.save_model(model)`. This file format is considered legacy. We recommend using instead the native Keras format, e.g. `model.save('my_model.keras')` or `keras.saving.save_model(model, 'my_model.keras')`. \n"
          ]
        },
        {
          "output_type": "stream",
          "name": "stdout",
          "text": [
            "\b\b\b\b\b\b\b\b\b\b\b\b\b\b\b\b\b\b\b\b\b\b\b\b\b\b\b\b\b\b\b\b\b\b\b\b\b\b\b\b\b\b\b\b\b\b\b\b\b\b\b\b\b\b\b\b\b\b\b\b\r\u001b[1m268/268\u001b[0m \u001b[32m━━━━━━━━━━━━━━━━━━━━\u001b[0m\u001b[37m\u001b[0m \u001b[1m4s\u001b[0m 15ms/step - loss: 5.0614e-05 - val_loss: 0.0120\n",
            "Epoch 11/20\n",
            "\u001b[1m268/268\u001b[0m \u001b[32m━━━━━━━━━━━━━━━━━━━━\u001b[0m\u001b[37m\u001b[0m \u001b[1m5s\u001b[0m 16ms/step - loss: 3.4566e-05 - val_loss: 0.0140\n",
            "Epoch 12/20\n",
            "\u001b[1m268/268\u001b[0m \u001b[32m━━━━━━━━━━━━━━━━━━━━\u001b[0m\u001b[37m\u001b[0m \u001b[1m5s\u001b[0m 15ms/step - loss: 3.7514e-05 - val_loss: 0.0261\n",
            "Epoch 13/20\n",
            "\u001b[1m268/268\u001b[0m \u001b[32m━━━━━━━━━━━━━━━━━━━━\u001b[0m\u001b[37m\u001b[0m \u001b[1m5s\u001b[0m 14ms/step - loss: 3.3652e-05 - val_loss: 0.0174\n",
            "Epoch 14/20\n",
            "\u001b[1m268/268\u001b[0m \u001b[32m━━━━━━━━━━━━━━━━━━━━\u001b[0m\u001b[37m\u001b[0m \u001b[1m7s\u001b[0m 25ms/step - loss: 3.4704e-05 - val_loss: 0.0201\n",
            "Epoch 15/20\n",
            "\u001b[1m268/268\u001b[0m \u001b[32m━━━━━━━━━━━━━━━━━━━━\u001b[0m\u001b[37m\u001b[0m \u001b[1m4s\u001b[0m 15ms/step - loss: 3.5104e-05 - val_loss: 0.0220\n",
            "Epoch 16/20\n",
            "\u001b[1m268/268\u001b[0m \u001b[32m━━━━━━━━━━━━━━━━━━━━\u001b[0m\u001b[37m\u001b[0m \u001b[1m4s\u001b[0m 15ms/step - loss: 3.6085e-05 - val_loss: 0.0203\n",
            "Epoch 17/20\n",
            "\u001b[1m268/268\u001b[0m \u001b[32m━━━━━━━━━━━━━━━━━━━━\u001b[0m\u001b[37m\u001b[0m \u001b[1m5s\u001b[0m 16ms/step - loss: 3.4263e-05 - val_loss: 0.0244\n",
            "Epoch 18/20\n",
            "\u001b[1m268/268\u001b[0m \u001b[32m━━━━━━━━━━━━━━━━━━━━\u001b[0m\u001b[37m\u001b[0m \u001b[1m4s\u001b[0m 14ms/step - loss: 3.6802e-05 - val_loss: 0.0149\n",
            "Epoch 19/20\n",
            "\u001b[1m268/268\u001b[0m \u001b[32m━━━━━━━━━━━━━━━━━━━━\u001b[0m\u001b[37m\u001b[0m \u001b[1m6s\u001b[0m 18ms/step - loss: 4.3697e-05 - val_loss: 0.0282\n",
            "Epoch 20/20\n",
            "\u001b[1m268/268\u001b[0m \u001b[32m━━━━━━━━━━━━━━━━━━━━\u001b[0m\u001b[37m\u001b[0m \u001b[1m4s\u001b[0m 15ms/step - loss: 3.4247e-05 - val_loss: 0.0221\n"
          ]
        }
      ]
    },
    {
      "cell_type": "code",
      "source": [
        "# Tahminleri aldim\n",
        "train_predict = model.predict(X_train)\n",
        "test_predict = model.predict(X_test)\n",
        "\n",
        "# Ölçeklendirmeyi geri aldım\n",
        "def inverse_scale(scaler, data, n_features):\n",
        "    \"\"\"Scaler dönüşümü için güvenli fonksiyon\"\"\"\n",
        "    if data.ndim == 1:\n",
        "        data = data.reshape(-1, 1)\n",
        "    if n_features == 1:\n",
        "        return scaler.inverse_transform(data).flatten()\n",
        "    else:\n",
        "        dummy = np.zeros((len(data), n_features-1))\n",
        "        return scaler.inverse_transform(np.hstack((data, dummy)))[:, 0]\n",
        "\n",
        "# Özellik sayısı\n",
        "n_features = X_train.shape[2] if len(X_train.shape) > 2 else 1\n",
        "\n",
        "# Dönüşümleri uyguladım\n",
        "train_predict = inverse_scale(scaler, train_predict, n_features)\n",
        "y_train_actual = inverse_scale(scaler, y_train, n_features)\n",
        "test_predict = inverse_scale(scaler, test_predict, n_features)\n",
        "y_test_actual = inverse_scale(scaler, y_test, n_features)\n",
        "\n",
        "# Tarih bilgisini ayarladım\n",
        "def get_dates(df, y_actual, offset=0):\n",
        "    \"\"\"Tarih aralığını doğru şekilde al\"\"\"\n",
        "    if len(y_actual) + offset > len(df):\n",
        "        return df['Date'].iloc[-len(y_actual):]\n",
        "    return df['Date'].iloc[offset:offset+len(y_actual)]\n",
        "\n",
        "# Görselleştirdim\n",
        "plt.figure(figsize=(16,8))\n",
        "plt.plot(get_dates(aapl, y_train_actual), y_train_actual, label='Eğitim Gerçek')\n",
        "plt.plot(get_dates(aapl, y_test_actual, len(y_train_actual)), y_test_actual, label='Test Gerçek')\n",
        "plt.plot(get_dates(aapl, test_predict, len(y_train_actual)), test_predict, 'r--', label='Test Tahmin')\n",
        "plt.title('Apple Hisse Fiyat Tahmini')\n",
        "plt.xlabel('Tarih')\n",
        "plt.ylabel('Fiyat')\n",
        "plt.legend()\n",
        "plt.grid(True)\n",
        "plt.show()\n",
        "\n",
        "# Hata metrikleri\n",
        "from sklearn.metrics import mean_absolute_error, mean_squared_error, r2_score\n",
        "\n",
        "print(\"\\nModel Performans Metrikleri:\")\n",
        "print(f\"Test MAE: {mean_absolute_error(y_test_actual, test_predict):.2f}\")\n",
        "print(f\"Test RMSE: {np.sqrt(mean_squared_error(y_test_actual, test_predict)):.2f}\")\n",
        "print(f\"Test R² Skoru: {r2_score(y_test_actual, test_predict):.2f}\")"
      ],
      "metadata": {
        "colab": {
          "base_uri": "https://localhost:8080/",
          "height": 846
        },
        "id": "UKlxkpo5JQxB",
        "outputId": "ed4ab941-6522-45be-9862-29f92a6dda2e"
      },
      "execution_count": null,
      "outputs": [
        {
          "output_type": "stream",
          "name": "stdout",
          "text": [
            "\u001b[1m268/268\u001b[0m \u001b[32m━━━━━━━━━━━━━━━━━━━━\u001b[0m\u001b[37m\u001b[0m \u001b[1m2s\u001b[0m 6ms/step\n",
            "\u001b[1m67/67\u001b[0m \u001b[32m━━━━━━━━━━━━━━━━━━━━\u001b[0m\u001b[37m\u001b[0m \u001b[1m1s\u001b[0m 8ms/step\n"
          ]
        },
        {
          "output_type": "display_data",
          "data": {
            "text/plain": [
              "<Figure size 1600x800 with 1 Axes>"
            ],
            "image/png": "[encoded data removed]"
          },
          "metadata": {}
        },
        {
          "output_type": "stream",
          "name": "stdout",
          "text": [
            "\n",
            "Model Performans Metrikleri:\n",
            "Test MAE: 14.07\n",
            "Test RMSE: 21.68\n",
            "Test R² Skoru: 0.86\n"
          ]
        }
      ]
    }
  ]
}